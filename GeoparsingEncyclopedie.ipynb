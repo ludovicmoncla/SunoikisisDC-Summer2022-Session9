{
 "cells": [
  {
   "cell_type": "markdown",
   "metadata": {
    "colab_type": "text",
    "id": "YrOKr9pwkxJw"
   },
   "source": [
    "# GEOPARSING HISTORICAL DOCUMENTS\n",
    "\n",
    "This notebook is proposed by [L. Moncla](https://ludovicmoncla.github.io/) and [K. McDonough](https://www.turing.ac.uk/people/researchers/katherine-mcdonough) as part of the [Sunoikisis Digital Classics](https://github.com/SunoikisisDC/SunoikisisDC-2021-2022/wiki/SunoikisisDC-Summer-2022-Session-9) Summer course on NLP for Historical maps (Session 9).\n",
    "\n",
    "[![Open In Colab](https://colab.research.google.com/assets/colab-badge.svg)](http://colab.research.google.com/github/ludovicmoncla/SunoikisisDC-Summer2022-Session9/blob/main/GeoparsingEncyclopedie.ipynb)\n",
    "[![Binder](https://mybinder.org/badge_logo.svg)](https://mybinder.org/v2/gh/ludovicmoncla/SunoikisisDC-Summer2022-Session9/master?filepath=GeoparsingEncyclopedie.ipynb)\n",
    "\n",
    "\n",
    "## Overview\n",
    "\n",
    "In this tutorial, we'll learn about a few different things.\n",
    "\n",
    "- How to load data from TEI-XML files into a Python dataframe\n",
    "- Use Python dataframe for simple data analysis\n",
    "- Test the [Perdido](https://github.com/ludovicmoncla/perdido) for geoparsing (geotagging + geocoding) Encyclopedie articles\n",
    "- Display custom geotagging results (PERDIDO TEI-XML) with the [displaCy Named Entity Visualizer](https://spacy.io/usage/visualizers)\n",
    "- Display geocoding results on a map\n",
    "- Discuss the limits of geoparsing historical French texts"
   ]
  },
  {
   "cell_type": "markdown",
   "metadata": {
    "colab_type": "text",
    "id": "5gi1PFqtkxJy"
   },
   "source": [
    "## Introduction\n",
    "\n",
    "Geoparsing (also known as toponym resolution) refers to the process of extracting place names from text and assigning geographic coordinates to them.\n",
    "This involves two main tasks: geotagging and geocoding.\n",
    "Geotagging consists to identify spans of text referring to place names while geocoding consists to find unambiguous geographic coordinates.\n"
   ]
  },
  {
   "cell_type": "markdown",
   "metadata": {},
   "source": [
    "### The Perdido Geoparser python library\n",
    "\n",
    "[Perdido](https://github.com/ludovicmoncla/perdido) is a python text geoparser. It provides NLP and GIS methods for geoparsing French texts.\n",
    "It has initially been developed as a REST API for extracting and retrieving displacements from French hiking descriptions [PERDIDO](http://erig.univ-pau.fr/PERDIDO/) and [ANR Choucas](http://choucas.ign.fr) projects.\n",
    "\n",
    "More recently, as part of the [GEODE project](https://geode-project.github.io) we have developed a custom version for historical documents and more specifically for the Encyclopédie.\n",
    "\n",
    "\n",
    "In this tutorial we'll see how to use the `Perdido` python library for geoparsing French texts. \n",
    "We will apply geoparsing on the Encyclopedie corpus version released by the [ARTFL project](https://encyclopedie.uchicago.edu/) and we'll show the limit of geotagging and geocoding historical documents.\n",
    "\n",
    "### Acknowledgement\n",
    "\n",
    "Data courtesy the [ARTFL Encyclopédie Project](https://artfl-project.uchicago.edu/), University of Chicago.\n"
   ]
  },
  {
   "cell_type": "markdown",
   "metadata": {},
   "source": [
    "## Setting up the environment\n",
    "\n"
   ]
  },
  {
   "cell_type": "markdown",
   "metadata": {},
   "source": [
    "### Install the Perdido Geoparser python library"
   ]
  },
  {
   "cell_type": "code",
   "execution_count": 8,
   "metadata": {},
   "outputs": [
    {
     "name": "stdout",
     "output_type": "stream",
     "text": [
      "Requirement already satisfied: perdido in /Users/lmoncla/opt/anaconda3/envs/gnn_env/lib/python3.7/site-packages (0.1.7)\n",
      "Collecting perdido\n",
      "  Downloading perdido-0.1.8-py3-none-any.whl (10 kB)\n",
      "Requirement already satisfied: gpxpy in /Users/lmoncla/opt/anaconda3/envs/gnn_env/lib/python3.7/site-packages (from perdido) (1.5.0)\n",
      "Requirement already satisfied: requests in /Users/lmoncla/opt/anaconda3/envs/gnn_env/lib/python3.7/site-packages (from perdido) (2.27.1)\n",
      "Requirement already satisfied: lxml in /Users/lmoncla/opt/anaconda3/envs/gnn_env/lib/python3.7/site-packages (from perdido) (4.8.0)\n",
      "Requirement already satisfied: folium in /Users/lmoncla/opt/anaconda3/envs/gnn_env/lib/python3.7/site-packages (from perdido) (0.12.1.post1)\n",
      "Requirement already satisfied: geojson in /Users/lmoncla/opt/anaconda3/envs/gnn_env/lib/python3.7/site-packages (from perdido) (2.5.0)\n",
      "Requirement already satisfied: numpy in /Users/lmoncla/opt/anaconda3/envs/gnn_env/lib/python3.7/site-packages (from folium->perdido) (1.21.5)\n",
      "Requirement already satisfied: jinja2>=2.9 in /Users/lmoncla/opt/anaconda3/envs/gnn_env/lib/python3.7/site-packages (from folium->perdido) (3.1.2)\n",
      "Requirement already satisfied: branca>=0.3.0 in /Users/lmoncla/opt/anaconda3/envs/gnn_env/lib/python3.7/site-packages (from folium->perdido) (0.5.0)\n",
      "Requirement already satisfied: MarkupSafe>=2.0 in /Users/lmoncla/opt/anaconda3/envs/gnn_env/lib/python3.7/site-packages (from jinja2>=2.9->folium->perdido) (2.1.1)\n",
      "Requirement already satisfied: urllib3<1.27,>=1.21.1 in /Users/lmoncla/opt/anaconda3/envs/gnn_env/lib/python3.7/site-packages (from requests->perdido) (1.26.9)\n",
      "Requirement already satisfied: certifi>=2017.4.17 in /Users/lmoncla/opt/anaconda3/envs/gnn_env/lib/python3.7/site-packages (from requests->perdido) (2021.10.8)\n",
      "Requirement already satisfied: idna<4,>=2.5 in /Users/lmoncla/opt/anaconda3/envs/gnn_env/lib/python3.7/site-packages (from requests->perdido) (3.3)\n",
      "Requirement already satisfied: charset-normalizer~=2.0.0 in /Users/lmoncla/opt/anaconda3/envs/gnn_env/lib/python3.7/site-packages (from requests->perdido) (2.0.4)\n",
      "Installing collected packages: perdido\n",
      "  Attempting uninstall: perdido\n",
      "    Found existing installation: perdido 0.1.7\n",
      "    Uninstalling perdido-0.1.7:\n",
      "      Successfully uninstalled perdido-0.1.7\n",
      "Successfully installed perdido-0.1.8\n"
     ]
    }
   ],
   "source": [
    "!pip install --upgrade perdido"
   ]
  },
  {
   "cell_type": "markdown",
   "metadata": {},
   "source": [
    "### Import the libraries"
   ]
  },
  {
   "cell_type": "code",
   "execution_count": 1,
   "metadata": {},
   "outputs": [],
   "source": [
    "from perdido.geoparser import Geoparser\n",
    "from perdido.datasets import load_edda_artfl\n",
    "\n",
    "import lxml.etree as etree"
   ]
  },
  {
   "cell_type": "code",
   "execution_count": null,
   "metadata": {
    "colab": {},
    "colab_type": "code",
    "id": "kO1rgEo4kxJ1",
    "scrolled": true
   },
   "outputs": [],
   "source": [
    "#### old cell\n",
    "# import of python libraries\n",
    "\n",
    "import requests\n",
    "\n",
    "import xml.dom.minidom as xml\n",
    "import os\n",
    "from zipfile import ZipFile\n",
    "\n",
    "import pandas as pd\n",
    "\n",
    "from spacy.tokens import Span\n",
    "from spacy.tokens import Doc\n",
    "from spacy.vocab import Vocab\n",
    "from spacy import displacy\n",
    "\n",
    "from display_xml import XML  \n",
    "\n",
    "import geojson\n",
    "import folium\n",
    "from IPython.display import display\n"
   ]
  },
  {
   "cell_type": "markdown",
   "metadata": {
    "colab_type": "text",
    "id": "b9ZN6YgcnxdK"
   },
   "source": [
    "\n",
    "## 1. Getting started\n",
    "\n",
    "### 1.1 Loading the Encyclopédie ARTFL dataset\n",
    "\n"
   ]
  },
  {
   "cell_type": "code",
   "execution_count": 2,
   "metadata": {},
   "outputs": [
    {
     "data": {
      "text/html": [
       "<div>\n",
       "<style scoped>\n",
       "    .dataframe tbody tr th:only-of-type {\n",
       "        vertical-align: middle;\n",
       "    }\n",
       "\n",
       "    .dataframe tbody tr th {\n",
       "        vertical-align: top;\n",
       "    }\n",
       "\n",
       "    .dataframe thead th {\n",
       "        text-align: right;\n",
       "    }\n",
       "</style>\n",
       "<table border=\"1\" class=\"dataframe\">\n",
       "  <thead>\n",
       "    <tr style=\"text-align: right;\">\n",
       "      <th></th>\n",
       "      <th>filename</th>\n",
       "      <th>volume</th>\n",
       "      <th>number</th>\n",
       "      <th>head</th>\n",
       "      <th>normClass</th>\n",
       "      <th>author</th>\n",
       "      <th>text</th>\n",
       "    </tr>\n",
       "  </thead>\n",
       "  <tbody>\n",
       "    <tr>\n",
       "      <th>0</th>\n",
       "      <td>volume01-1063.tei</td>\n",
       "      <td>1</td>\n",
       "      <td>1063</td>\n",
       "      <td>AFRIQUE</td>\n",
       "      <td>Géographie</td>\n",
       "      <td>Diderot</td>\n",
       "      <td>* AFRIQUE, (Géog.) l'une des quatre parties pr...</td>\n",
       "    </tr>\n",
       "    <tr>\n",
       "      <th>1</th>\n",
       "      <td>volume01-1468.tei</td>\n",
       "      <td>1</td>\n",
       "      <td>1468</td>\n",
       "      <td>AISNE</td>\n",
       "      <td>Géographie</td>\n",
       "      <td>Diderot</td>\n",
       "      <td>* AISNE, (Géog.) riviere de France, qui a sa s...</td>\n",
       "    </tr>\n",
       "    <tr>\n",
       "      <th>2</th>\n",
       "      <td>volume01-1789.tei</td>\n",
       "      <td>1</td>\n",
       "      <td>1789</td>\n",
       "      <td>ALLEMAGNE</td>\n",
       "      <td>Géographie</td>\n",
       "      <td>Diderot</td>\n",
       "      <td>* ALLEMAGNE, (Geog.) grand pays situé au milie...</td>\n",
       "    </tr>\n",
       "    <tr>\n",
       "      <th>3</th>\n",
       "      <td>volume01-2568.tei</td>\n",
       "      <td>1</td>\n",
       "      <td>2568</td>\n",
       "      <td>ANCUD</td>\n",
       "      <td>Géographie moderne</td>\n",
       "      <td>Diderot</td>\n",
       "      <td>* ANCUD, (Géog. mod.) l'Archipel d'Ancud ou de...</td>\n",
       "    </tr>\n",
       "    <tr>\n",
       "      <th>4</th>\n",
       "      <td>volume01-4093.tei</td>\n",
       "      <td>1</td>\n",
       "      <td>4093</td>\n",
       "      <td>ARRACIFES</td>\n",
       "      <td>Géographie</td>\n",
       "      <td>Diderot</td>\n",
       "      <td>* ARRACIFES, (Géog.) une des îles des Larrons,...</td>\n",
       "    </tr>\n",
       "  </tbody>\n",
       "</table>\n",
       "</div>"
      ],
      "text/plain": [
       "            filename  volume  number       head           normClass   author  \\\n",
       "0  volume01-1063.tei       1    1063    AFRIQUE          Géographie  Diderot   \n",
       "1  volume01-1468.tei       1    1468      AISNE          Géographie  Diderot   \n",
       "2  volume01-1789.tei       1    1789  ALLEMAGNE          Géographie  Diderot   \n",
       "3  volume01-2568.tei       1    2568      ANCUD  Géographie moderne  Diderot   \n",
       "4  volume01-4093.tei       1    4093  ARRACIFES          Géographie  Diderot   \n",
       "\n",
       "                                                text  \n",
       "0  * AFRIQUE, (Géog.) l'une des quatre parties pr...  \n",
       "1  * AISNE, (Géog.) riviere de France, qui a sa s...  \n",
       "2  * ALLEMAGNE, (Geog.) grand pays situé au milie...  \n",
       "3  * ANCUD, (Géog. mod.) l'Archipel d'Ancud ou de...  \n",
       "4  * ARRACIFES, (Géog.) une des îles des Larrons,...  "
      ]
     },
     "execution_count": 2,
     "metadata": {},
     "output_type": "execute_result"
    }
   ],
   "source": [
    "df = load_edda_artfl()\n",
    "df.head()"
   ]
  },
  {
   "cell_type": "markdown",
   "metadata": {},
   "source": [
    "### 1.2 First look at the data"
   ]
  },
  {
   "cell_type": "markdown",
   "metadata": {},
   "source": [
    "Now we have access to all the attributs and methods of the dataframe object. For instance, we can easily print the number of rows in our dataframe which correspond to the number of articles in our corpus:"
   ]
  },
  {
   "cell_type": "code",
   "execution_count": 3,
   "metadata": {},
   "outputs": [
    {
     "name": "stdout",
     "output_type": "stream",
     "text": [
      "There are 35 articles in the input directory\n"
     ]
    }
   ],
   "source": [
    "n = df.shape[0]\n",
    "print('There are ' + str(n) + ' articles in the input directory')"
   ]
  },
  {
   "cell_type": "markdown",
   "metadata": {},
   "source": [
    "\n",
    "\n",
    "Now that the data from the XML-TEI files are loaded into a python dataframe, we can have a look at them.\n",
    "For instance, we can select articles based on their classification in the Encyclopedie.\n",
    "If we want all articles in 'geography' we can just do as follows: "
   ]
  },
  {
   "cell_type": "code",
   "execution_count": 4,
   "metadata": {},
   "outputs": [
    {
     "data": {
      "text/html": [
       "<div>\n",
       "<style scoped>\n",
       "    .dataframe tbody tr th:only-of-type {\n",
       "        vertical-align: middle;\n",
       "    }\n",
       "\n",
       "    .dataframe tbody tr th {\n",
       "        vertical-align: top;\n",
       "    }\n",
       "\n",
       "    .dataframe thead th {\n",
       "        text-align: right;\n",
       "    }\n",
       "</style>\n",
       "<table border=\"1\" class=\"dataframe\">\n",
       "  <thead>\n",
       "    <tr style=\"text-align: right;\">\n",
       "      <th></th>\n",
       "      <th>filename</th>\n",
       "      <th>volume</th>\n",
       "      <th>number</th>\n",
       "      <th>head</th>\n",
       "      <th>normClass</th>\n",
       "      <th>author</th>\n",
       "      <th>text</th>\n",
       "    </tr>\n",
       "  </thead>\n",
       "  <tbody>\n",
       "    <tr>\n",
       "      <th>0</th>\n",
       "      <td>volume01-1063.tei</td>\n",
       "      <td>1</td>\n",
       "      <td>1063</td>\n",
       "      <td>AFRIQUE</td>\n",
       "      <td>Géographie</td>\n",
       "      <td>Diderot</td>\n",
       "      <td>* AFRIQUE, (Géog.) l'une des quatre parties pr...</td>\n",
       "    </tr>\n",
       "    <tr>\n",
       "      <th>1</th>\n",
       "      <td>volume01-1468.tei</td>\n",
       "      <td>1</td>\n",
       "      <td>1468</td>\n",
       "      <td>AISNE</td>\n",
       "      <td>Géographie</td>\n",
       "      <td>Diderot</td>\n",
       "      <td>* AISNE, (Géog.) riviere de France, qui a sa s...</td>\n",
       "    </tr>\n",
       "    <tr>\n",
       "      <th>2</th>\n",
       "      <td>volume01-1789.tei</td>\n",
       "      <td>1</td>\n",
       "      <td>1789</td>\n",
       "      <td>ALLEMAGNE</td>\n",
       "      <td>Géographie</td>\n",
       "      <td>Diderot</td>\n",
       "      <td>* ALLEMAGNE, (Geog.) grand pays situé au milie...</td>\n",
       "    </tr>\n",
       "    <tr>\n",
       "      <th>3</th>\n",
       "      <td>volume01-2568.tei</td>\n",
       "      <td>1</td>\n",
       "      <td>2568</td>\n",
       "      <td>ANCUD</td>\n",
       "      <td>Géographie moderne</td>\n",
       "      <td>Diderot</td>\n",
       "      <td>* ANCUD, (Géog. mod.) l'Archipel d'Ancud ou de...</td>\n",
       "    </tr>\n",
       "    <tr>\n",
       "      <th>4</th>\n",
       "      <td>volume01-4093.tei</td>\n",
       "      <td>1</td>\n",
       "      <td>4093</td>\n",
       "      <td>ARRACIFES</td>\n",
       "      <td>Géographie</td>\n",
       "      <td>Diderot</td>\n",
       "      <td>* ARRACIFES, (Géog.) une des îles des Larrons,...</td>\n",
       "    </tr>\n",
       "    <tr>\n",
       "      <th>5</th>\n",
       "      <td>volume01-4583.tei</td>\n",
       "      <td>1</td>\n",
       "      <td>4583</td>\n",
       "      <td>ATAVILLES</td>\n",
       "      <td>Géographie</td>\n",
       "      <td>Diderot</td>\n",
       "      <td>* ATAVILLES, s. m. pl. (Géog.) peuples du Péro...</td>\n",
       "    </tr>\n",
       "    <tr>\n",
       "      <th>6</th>\n",
       "      <td>volume01-4987.tei</td>\n",
       "      <td>1</td>\n",
       "      <td>4987</td>\n",
       "      <td>AVIQUIRINA</td>\n",
       "      <td>Géographie</td>\n",
       "      <td>Diderot</td>\n",
       "      <td>* AVIQUIRINA, (Géog.) île de l'Amérique septen...</td>\n",
       "    </tr>\n",
       "    <tr>\n",
       "      <th>7</th>\n",
       "      <td>volume01-5207.tei</td>\n",
       "      <td>1</td>\n",
       "      <td>5207</td>\n",
       "      <td>AYUTLAN</td>\n",
       "      <td>Géographie</td>\n",
       "      <td>Diderot</td>\n",
       "      <td>* AYUTLAN, (Géog.) riviere de l'Amérique septe...</td>\n",
       "    </tr>\n",
       "    <tr>\n",
       "      <th>8</th>\n",
       "      <td>volume01-5235.tei</td>\n",
       "      <td>1</td>\n",
       "      <td>5235</td>\n",
       "      <td>AZIRUTH</td>\n",
       "      <td>Géographie</td>\n",
       "      <td>Diderot</td>\n",
       "      <td>* AZIRUTH (Géographie.) petite ville d'Egypte,...</td>\n",
       "    </tr>\n",
       "    <tr>\n",
       "      <th>9</th>\n",
       "      <td>volume01-5237.tei</td>\n",
       "      <td>1</td>\n",
       "      <td>5237</td>\n",
       "      <td>AZMER</td>\n",
       "      <td>Géographie</td>\n",
       "      <td>Diderot</td>\n",
       "      <td>* AZMER (Géographie.) ville des Indes, dans le...</td>\n",
       "    </tr>\n",
       "  </tbody>\n",
       "</table>\n",
       "</div>"
      ],
      "text/plain": [
       "            filename  volume  number        head           normClass   author  \\\n",
       "0  volume01-1063.tei       1    1063     AFRIQUE          Géographie  Diderot   \n",
       "1  volume01-1468.tei       1    1468       AISNE          Géographie  Diderot   \n",
       "2  volume01-1789.tei       1    1789   ALLEMAGNE          Géographie  Diderot   \n",
       "3  volume01-2568.tei       1    2568       ANCUD  Géographie moderne  Diderot   \n",
       "4  volume01-4093.tei       1    4093   ARRACIFES          Géographie  Diderot   \n",
       "5  volume01-4583.tei       1    4583   ATAVILLES          Géographie  Diderot   \n",
       "6  volume01-4987.tei       1    4987  AVIQUIRINA          Géographie  Diderot   \n",
       "7  volume01-5207.tei       1    5207     AYUTLAN          Géographie  Diderot   \n",
       "8  volume01-5235.tei       1    5235     AZIRUTH          Géographie  Diderot   \n",
       "9  volume01-5237.tei       1    5237       AZMER          Géographie  Diderot   \n",
       "\n",
       "                                                text  \n",
       "0  * AFRIQUE, (Géog.) l'une des quatre parties pr...  \n",
       "1  * AISNE, (Géog.) riviere de France, qui a sa s...  \n",
       "2  * ALLEMAGNE, (Geog.) grand pays situé au milie...  \n",
       "3  * ANCUD, (Géog. mod.) l'Archipel d'Ancud ou de...  \n",
       "4  * ARRACIFES, (Géog.) une des îles des Larrons,...  \n",
       "5  * ATAVILLES, s. m. pl. (Géog.) peuples du Péro...  \n",
       "6  * AVIQUIRINA, (Géog.) île de l'Amérique septen...  \n",
       "7  * AYUTLAN, (Géog.) riviere de l'Amérique septe...  \n",
       "8  * AZIRUTH (Géographie.) petite ville d'Egypte,...  \n",
       "9  * AZMER (Géographie.) ville des Indes, dans le...  "
      ]
     },
     "execution_count": 4,
     "metadata": {},
     "output_type": "execute_result"
    }
   ],
   "source": [
    "# create the list of class that refers to 'Géographie'\n",
    "normclassGEO = ['Géographie', 'Géographie moderne',\n",
    "                 'Géographie ancienne', 'Géographie moderne | Géographie ancienne',\n",
    "                 'Géographie ancienne | Géographie moderne', 'Géographie sacrée', 'Géographie sainte',\n",
    "                 'Géographie | Histoire ancienne', 'Géographie historique', 'Géographie | Histoire',\n",
    "                 'Histoire | Géographie', 'Géographie | Histoire naturelle', 'Géographie | Mythologie',\n",
    "                 'Géographie ancienne | Mythologie', 'Histoire moderne | Géographie',\n",
    "                 'Géographie ancienne | Géographie sainte', 'Géographie ancienne | Géographie sacrée',\n",
    "                 'Géographie sacrée | Géographie ancienne', 'Géographie du moyen âge', 'Géographie des Arabes',\n",
    "                 'Géographie | Commerce', 'Histoire | Géographie ancienne',\n",
    "                 'Géographie | Histoire ancienne | Histoire moderne', 'Géographie ancienne | Littérature | Histoire',\n",
    "                 'Histoire naturelle | Géographie', 'Géographie | Histoire ancienne | Mythologie',\n",
    "                 'Géographie moderne | Commerce', 'Géographie ancienne | Géographie antique',\n",
    "                 'Géographie moderne | Histoire', 'Géographie | Histoire monastique',\n",
    "                 'Géographie ancienne | Géographie moderne | Mythologie', 'Géographie ancienne | Histoire',\n",
    "                 'Géographie ancienne | Littérature | Mythologie', 'Géographie ancienne | Médailles'\n",
    "                 ]\n",
    "\n",
    "# query the dataframe for all articles matching one of the class in our list\n",
    "df_geo = df.loc[df['normClass'].isin(normclassGEO)]\n",
    "df_geo.head(10)"
   ]
  },
  {
   "cell_type": "code",
   "execution_count": 5,
   "metadata": {},
   "outputs": [
    {
     "name": "stdout",
     "output_type": "stream",
     "text": [
      "There are 32 geography articles\n"
     ]
    }
   ],
   "source": [
    "print('There are ' + str(df_geo.shape[0]) + ' geography articles')"
   ]
  },
  {
   "cell_type": "markdown",
   "metadata": {},
   "source": [
    "Then, we can also make a query based on the value of the data. For instance, we can query all the articles of a specific author:"
   ]
  },
  {
   "cell_type": "code",
   "execution_count": 6,
   "metadata": {},
   "outputs": [
    {
     "name": "stdout",
     "output_type": "stream",
     "text": [
      "10 were written by Jaucourt\n"
     ]
    }
   ],
   "source": [
    "val = 'Jaucourt'\n",
    "n = df_geo.loc[df['author'] == val].shape[0]\n",
    "print(str(n) + ' were written by '+ val)"
   ]
  },
  {
   "cell_type": "markdown",
   "metadata": {},
   "source": [
    "We can also easily show the number of articles per author"
   ]
  },
  {
   "cell_type": "code",
   "execution_count": 7,
   "metadata": {},
   "outputs": [
    {
     "data": {
      "text/plain": [
       "author\n",
       "Diderot                   12\n",
       "Jaucourt                  10\n",
       "d'Alembert & d'Holbach     1\n",
       "unsigned                   9\n",
       "Name: filename, dtype: int64"
      ]
     },
     "execution_count": 7,
     "metadata": {},
     "output_type": "execute_result"
    }
   ],
   "source": [
    "df_geo.groupby(['author'])[\"filename\"].count()"
   ]
  },
  {
   "cell_type": "markdown",
   "metadata": {},
   "source": [
    "It is possible to show the value of one of the column of our dataframe for a specific row (i.e., article) based on its name. For instance, if we want to know who wrote the article about Lyon or if we want to see its content:"
   ]
  },
  {
   "cell_type": "code",
   "execution_count": 8,
   "metadata": {},
   "outputs": [
    {
     "data": {
      "text/plain": [
       "'Jaucourt'"
      ]
     },
     "execution_count": 8,
     "metadata": {},
     "output_type": "execute_result"
    }
   ],
   "source": [
    "df.loc[df['head'] == 'LYON'].author.item()"
   ]
  },
  {
   "cell_type": "code",
   "execution_count": 10,
   "metadata": {},
   "outputs": [
    {
     "data": {
      "text/plain": [
       "'LYON, (Géogr.) grande, riche, belle, ancienne & celebre ville de France, la plus considérable du royaume après Paris, & la capitale du Lyonnois. Elle se nomme en latin Lugdunum, Lugudunum, Lugdumum Segusianorum, Lugdumum Celtarum, &c. Voyez Lugdunum. Lyon fut fondée l\\'an de Rome 712, quarante-un ans avant l\\'ere chrétienne, par Lucius Munatius Plancus, qui étoit consul avec AEmilius Lepidus. Il la bâtit sur la Sône, au lieu où cette riviere se jette dans le Rhône, & il la peupla des citoyens romains  qui avoient été chassés de Vienne par les Allobroges. On lit dans Gruter une inscription où il est parlé de l\\'établissement de cette colonie ; cependant on n\\'honora pas Lyon d\\'un nom romain ; elle eut le nom gaulois Lugdun, qu\\'avoit la montagne aujourd\\'hui Forvieres, sur laquelle cette ville fut fondée. Vibius Sequester prétend que ce mot Lugdun signifioit en langue gauloise, montagne du corbeau. Quoi qu\\'il en soit, la ville de Lyon est presque aussi souvent nommée  Lugudunum dans les inscriptions antiques des deux premiers siecles de notre ere. M. de Boze avoit une médaille de Marc-Antoine, au revers de laquelle  se voyoit un lion, avec ce mot partagé en deux, Lugu-duni. Lyon fondée, comme nous l\\'avons dit, sur la montagne    de Forvieres, nommée Forum-vetus, & selon d\\'autres Forum-veneris, s\\'agrandit rapidement le long des collines, & sur le bord de la Sône ; elle devint bientôt une ville florissante & l\\'entrepôt d\\'un grand commerce. Auguste la fit capitale de la Celtique, qui prit le nom de province lyonnoise. Ce fut de Lyon, comme de la forteresse principale des Romains au-deçà des Alpes, qu\\'Agrippa tira les premiers  commencemens des chemins militaires de la Gaule, tant à cause de la rencontre du Rhône & de la Sône qui se fait à Lyon, que pour la situation commode de cette ville, & son rapport avec toutes les autres parties de la Gaule. Il n\\'y a rien eu de plus célebre dans notre pays, que ce temple d\\'Auguste, qui fut bâti à Lyon par soixante peuples des Gaules, à la gloire de cet empereur, avec autant de statues pour orner son autel. On ne peut point oublier qu\\'après que Caligula eut reçu dans Lyon l\\'honneur de son troisieme consulat, il y fonda toutes sortes de jeux, & en particulier  cette fameuse académie Athoenoeum, qui s\\'assembloit  devant l\\'autel d\\'Auguste, Ara Lugdunensis. C\\'étoit là qu\\'on disputoit les prix d\\'éloquence greque  & latine, en se soumettant à la rigueur des lois que le fondateur avoit établies. Une des conditions singulieres de ces lois étoit que les vaincus non seulement  fourniroient à leurs dépens les prix aux vainqueurs, mais de plus qu\\'ils seroient contraints d\\'effacer  leurs propres ouvrages avec une éponge, & qu\\'en cas de refus, ils seroient battus de verges, ou même précipités dans le Rhône. De-là vient le proverbe  de Juvenal, sat. 2. v. 44.  Palleat ut nudis pressit qui calcibus anguem, Aut Lugdunensem rhetor dicturus ad aram. Le temple d\\'Auguste, son autel, & l\\'académie de Caligula, dont parlent Suétone & Juvenal, étoient dans l\\'endroit où est aujourd\\'hui l\\'abbaye d\\'Aisnay, nom corrompu du mot Athoenoeum. Lyon jouissoit de tant de décorations honorables, lorsque cent ans après sa fondation, elle fut détruite en une seule nuit, par un incendie extraordinaire, dont on ne trouve pas d\\'autres exemples dans les annales  de l\\'histoire. Seneque, épist. 91 à Lucius, dit avec beaucoup d\\'esprit, en parlant de cet embrasement, qu\\'il n\\'y eut que l\\'intervalle d\\'une nuit, entre une grande ville & une ville qui n\\'existoit plus ; le latin est plus énergique : inter magnam urbem, & nullam, una nox interfuit. Cependant Néron ayant appris  cette triste nouvelle, envoya sur le champ une somme considérable pour rétablir cette ville, & cette somme fut si bien employée, qu\\'en moins de vingt ans Lyon se trouva en état de faire tête à Vienne, qui suivoit le parti de Galba contre Vitellius. On voit encore à Lyon quelques pauvres restes des magnifiques ouvrages dont les Romains l\\'avoient embellie. Le théâtre où le peuple s\\'assembloit pour les spectacles étoit sur la montagne de Saint-Gust, dans le terrein qui est occupé par le couvent & les vignes des Minimes. On y avoit construit des aqueducs  pour conduire de l\\'eau du Rhône dans la ville, avec des réservoirs pour recevoir ces eaux. Il ne subsiste de tout cela qu\\'un réservoir assez entier, qu\\'on appelle la grotte Berelle, quelques arcades ruinées  & des amas de pierres. Le palais des empereurs & des gouverneurs, lorsqu\\'ils se trouvoient à Lyon, étoit sur le penchant de la même montagne, dans le terrein du monastere des religieuses de la Visitation. L\\'on ne sauroit presque  y creuser que l\\'on n\\'y trouve encore quelque antiquaille. On peut ici se servir de ce mot antiquaille, parce qu\\'une partie de la colline en a retenu le nom. Lorsque dans le cinquieme siecle les Gaules furent  envahies par des nations barbares, Lyon fut  prise par les Bourguignons, dont le roi devint feudataire  de Clovis sur la fin du même siecle. Les fils de Clovis détruisirent cet état des Bourguignons, & se rendirent maîtres de Lyon. Mais cette ville dans la suite des tems changea plusieurs fois de souverains ;  & ses archevêques eurent de grands différends avec les seigneurs du Lyonnois, pour la jurisdiction. Enfin les habitans s\\'étant affranchis de la servitude, contraignirent leur archevêque de se mettre sous la protection du roi de France, & de reconnoître sa souveraineté. C\\'est ce qui arriva sous Philippe le Bel en 1307; alors ce prince érigea la seigneurie de Lyon en comté, qu\\'il laissa à l\\'archevêque & au chapitre  de saint Jean ; & c\\'est là l\\'origine du titre de comtes de Lyon que prennent les chanoines de cette église. En 1563, le droit de justice que l\\'archevêque avoit, fut mis en vente, & adjugé au roi, dernier enchérisseur. Depuis ce tems-là toute la justice de Lyon a été entre les mains des officiers du Roi. Cette ville a présentement un gouverneur, un intendant, une sénéchaussée & siége présidial, qui ressortissent  au parlement de Paris ; un échevinage, un arsenal, un bureau des tresoriers de France, une cour des monnoies & deux foires renommées. L\\'archevêché de Lyon vaut environ cinquante mille livres de rente. Quand il est vacant c\\'est l\\'évêque  d\\'Autun qui en a l\\'administration, & qui jouit de la régale ; mais il est obligé de venir en personne en faire la demande au chapitre de saint Jean de Lyon. L\\'archevêque de Lyon a aussi l\\'administration du diocèse d\\'Autun pendant la vacance, mais il ne jouit pas de la régale. Comme plusieurs écrivains ont donné d\\'amples descriptions de Lyon, j\\'y renvoie le lecteur, sans entrer  dans d\\'autres détails. Je remarquerai seulement, que cette ville se trouvant au centre de l\\'Europe, si l\\'on peut parler ainsi, & sur le confluent de deux rivieres, la Sône & le Rhône ; une situation si heureuse  la met en état de fleurir & de prospérer éminemment par le négoce. Elle a une douane fort ancienne  & fort considérable ; mais il est bien singulier que ce n\\'est qu\\'en 1743, que les marchandises allant  à l\\'étranger ont été déchargées des droits de cette douane. Cette opération si tardive, dit un homme d\\'esprit, prouve assez combien longtems les François ont été aveuglés sur la science du commerce. Lyon est à six lieues N. O. de Vienne, vingt N. O. de Grenoble, vingt-huit S. O. de Genève, trente-six  N. d\\'Avignon, quarante S. O. de Dijon, soixante  N. O. de Turin, cent S. E. de Paris. Long. suivant Cassini, 22d. 16\\'. 30\". lat. 45d. 45\\'. 20\". On sait que l\\'empereur Claude fils de Drusus, & neveu de Tibere, naquit à Lyon dix ans avant J. C. mais cette ville ne peut pas se glorifier d\\'un homme dont la mere, pour peindre un stupide, disoit qu\\'il étoit aussi so que son fils Claude. Ses affranchis gouvernerent  l\\'empire, & le deshonorerent ; enfin lui-même  mit le comble au desastre en adoptant Néron pour son successeur au préjudice de Britannicus. Parlons donc des gens de lettres, dont la naissance peut faire honneur à Lyon, car elle en a produit d\\'illustres. Sidonius Apollinaris doit être mis à la tête, comme  un des grands évêques & des célebres écrivains du cinquieme siecle. Son pere étoit préfet des Gaules sous Honorius. Apollinaire devint préfet de Rome, patrice, & évêque de Clermont. Il mourut en 480, à cinquante-deux ans. Il nous reste de lui neuf livres d\\'épitres & vingt-quatre pieces de poésies, publiées a vec les notes de Jean Savaron & du pere Sirmond. Entre les modernes, Messieurs Terrasson, de Boze,   Spon, Chazelles, Lagni, Truchet, le pere Ménétirer, &c. ont eu Lyon pour patrie. L\\'abbé Terrasson (Jean) philosophe pendant sa vie & à sa mort, mérite notre reconnoissance par son élégante & utile traduction de Diodore de Sicile. Malgré toutes les critiques qu\\'on a faites de son Sethos, on ne peut s\\'empêcher d\\'avouer qu\\'il s\\'y trouve des caracteres admirables & des morceaux quelquefois sublimes ; il mourut en 1750. Deux de ses freres se sont livrés à la prédication avec applaudissement ;  leurs sermons imprimés forment huit volumes  in-12. L\\'avocat Terrasson ne s\\'est pas moins distingué par ses ouvrages de jurisprudence. Il étoit l\\'oracle du Lyonnois, & de toutes les provinces qui suivent le droit romain. M. de Boze (Claude Gros de) habile antiquaire & savant littérateur, s\\'est distingué par plusieurs dissertations  sur les médailles antiques, par sa bibliotheque  de livres rares & curieux, & plus encore par les quinze premiers volumes in-4°. des mémoires de l\\'académie des Inscriptions, dont il étoit le secrétaire  perpétuel. Il mourut en 1754 âgé de soixante-quatorze  ans. Le public est redevable à M. Spon (Jacob) des recherches curieuses d\\'antiquités in folio, d\\'une relation  de ses voyages de Grece & du Levant, imprimés  tant de fois, & d\\'une bonne histoire de la ville de Genève. Il mourut en 1685 âgé seulement de trente-huit ans. Chazelles (Jean Mathieu de) imagina le premier qu\\'on pouvoit conduire des galeres sur l\\'Océan ; ce qui réussit. Il voyagea dans la Grece & dans l\\'Egypte ; il mesura les pyramides, & remarqua que les quatre côtés de la plus grande sont exposés aux quatre régions du monde ; c\\'est-à-dire à l\\'orient, à l\\'occident, au midi & au nord. Il fut associé à l\\'académie  des Sciences, & mourut à Marseille en 1710 âgé de cinquante-trois ans. M. de Lagny (Thomas Fantet de) a publié plusieurs  mémoires de Mathématiques dans le recueil de l\\'académie des Sciences, dont il étoit membre. Il mourut en 1734 âgé de soixante-quatorze ans. Voyez son éloge par M. de Fontenelle. Truchet (Jean) célebre méchanicien, plus connu sous le nom de P. Sébastien, naquit à Lyon en 1657, & mourut à Paris en 1729. Il enrichit les manufactures  du royaume de plusieurs machines très-utiles, fruit de ses découvertes & de son génie ; il inventa les tableaux mouvans, l\\'art de transporter de gros arbres entiers sans les endommager ; & cent autres ouvrages de Méchanique. En 1699, le roi le nomma  pour un des honoraires de l\\'académie des Sciences, à laquelle il a donné comme académicien quelques  morceaux, entr\\'autres une élégante machine du système de Galilée, pour les corps pesans, & les combinaisons des carreaux mi-partis, qui ont excité d\\'autres savans à cette recherche. Le R. P. Menetrier (Claude François.) jésuite, décédé  en 1705, a rendu service à Lyon sa patrie, par l\\'histoire consulaire de cette ville. Il ne faut pas le confondre avec les deux habiles antiquaires de Dijon, qui portent le même nom, Claude & Jean-Baptiste le Menestrier, & qui ont publié tous les deux des ouvrages curieux sur les médailles d\\'antiquités  romaines. Je pourrois louer le poëte Gacon (François) né à Lyon en 1667, s\\'il n\\'avoit mis au jour que la traduction  des odes d\\'Anacréon & de Sapho, celle de la comédie des oiseaux d\\'Aristophane, & celle du poëme latin de du Fresnoy sur la Peinture. Il mourut en 1725. Vergier (Jacques) poëte lyonnois, est à l\\'égard de la Fontaine, dit M. de Voltaire, ce que Campistron est à Racine, imitateur foible, mais naturel.  Ses chansons de table sont charmantes, pleines d\\'élégance  & de naïveté. On sait quelle a été la triste fin de ce poëte ; il fut assassiné à Paris par des voleurs en 1720, à soixante-trois ans. Enfin Lyon a donné de fameux artistes ; par exemple, Antoine Coysevox, dont les ouvrages de sculpture  ornent Versailles, Jacques Stella, qui devint le premier peintre du Roi, & qui a si bien réussi dans les pastorales ; Joseph Vivien, excellent dans le pastel, avant le célebre artiste de notre siecle, qui a porté ce genre de peinture au dernier point de perfection, &c. (D. J.)'"
      ]
     },
     "execution_count": 10,
     "metadata": {},
     "output_type": "execute_result"
    }
   ],
   "source": [
    "df.loc[df['head'] == 'LYON'].text.item()"
   ]
  },
  {
   "cell_type": "markdown",
   "metadata": {},
   "source": [
    "We can also perform a keyword search over the text content of all articles:"
   ]
  },
  {
   "cell_type": "code",
   "execution_count": 11,
   "metadata": {},
   "outputs": [
    {
     "name": "stdout",
     "output_type": "stream",
     "text": [
      "11 articles contain the word 'france'\n"
     ]
    }
   ],
   "source": [
    "val = 'france'\n",
    "df_2 = df[df['text'].str.contains(val, case=False)]\n",
    "print(str(df_2.shape[0]) + ' articles contain the word \\''+ val + '\\'')"
   ]
  },
  {
   "cell_type": "markdown",
   "metadata": {},
   "source": [
    "Another example with the expression \"ville de\" will extract all articles that contain the expression 'ville de':"
   ]
  },
  {
   "cell_type": "code",
   "execution_count": 12,
   "metadata": {},
   "outputs": [
    {
     "data": {
      "text/html": [
       "<div>\n",
       "<style scoped>\n",
       "    .dataframe tbody tr th:only-of-type {\n",
       "        vertical-align: middle;\n",
       "    }\n",
       "\n",
       "    .dataframe tbody tr th {\n",
       "        vertical-align: top;\n",
       "    }\n",
       "\n",
       "    .dataframe thead th {\n",
       "        text-align: right;\n",
       "    }\n",
       "</style>\n",
       "<table border=\"1\" class=\"dataframe\">\n",
       "  <thead>\n",
       "    <tr style=\"text-align: right;\">\n",
       "      <th></th>\n",
       "      <th>filename</th>\n",
       "      <th>volume</th>\n",
       "      <th>number</th>\n",
       "      <th>head</th>\n",
       "      <th>normClass</th>\n",
       "      <th>author</th>\n",
       "      <th>text</th>\n",
       "    </tr>\n",
       "  </thead>\n",
       "  <tbody>\n",
       "    <tr>\n",
       "      <th>9</th>\n",
       "      <td>volume01-5237.tei</td>\n",
       "      <td>1</td>\n",
       "      <td>5237</td>\n",
       "      <td>AZMER</td>\n",
       "      <td>Géographie</td>\n",
       "      <td>Diderot</td>\n",
       "      <td>* AZMER (Géographie.) ville des Indes, dans le...</td>\n",
       "    </tr>\n",
       "    <tr>\n",
       "      <th>11</th>\n",
       "      <td>volume02-1783.tei</td>\n",
       "      <td>2</td>\n",
       "      <td>1783</td>\n",
       "      <td>BESANÇON</td>\n",
       "      <td>Géographie</td>\n",
       "      <td>Diderot</td>\n",
       "      <td>* BESANÇON, (Géog.) ville de France, capitale ...</td>\n",
       "    </tr>\n",
       "    <tr>\n",
       "      <th>15</th>\n",
       "      <td>volume04-4137.tei</td>\n",
       "      <td>4</td>\n",
       "      <td>4137</td>\n",
       "      <td>DENAT</td>\n",
       "      <td>Géographie moderne</td>\n",
       "      <td>unsigned</td>\n",
       "      <td>DENAT, (Géog. mod.) petite ville de France au ...</td>\n",
       "    </tr>\n",
       "    <tr>\n",
       "      <th>21</th>\n",
       "      <td>volume09-3630.tei</td>\n",
       "      <td>9</td>\n",
       "      <td>3630</td>\n",
       "      <td>LYON</td>\n",
       "      <td>Géographie</td>\n",
       "      <td>Jaucourt</td>\n",
       "      <td>LYON, (Géogr.) grande, riche, belle, ancienne ...</td>\n",
       "    </tr>\n",
       "    <tr>\n",
       "      <th>31</th>\n",
       "      <td>volume11-760.tei</td>\n",
       "      <td>11</td>\n",
       "      <td>760</td>\n",
       "      <td>NICOYA</td>\n",
       "      <td>Géographie</td>\n",
       "      <td>unsigned</td>\n",
       "      <td>NICOYA, (Géogr.) ville de l'Amérique septentri...</td>\n",
       "    </tr>\n",
       "    <tr>\n",
       "      <th>32</th>\n",
       "      <td>volume17-2675.tei</td>\n",
       "      <td>17</td>\n",
       "      <td>2675</td>\n",
       "      <td>Zacatula, la</td>\n",
       "      <td>Géographie moderne</td>\n",
       "      <td>unsigned</td>\n",
       "      <td>Zacatula, la, (Géog. mod.) riviere de l'Amériq...</td>\n",
       "    </tr>\n",
       "  </tbody>\n",
       "</table>\n",
       "</div>"
      ],
      "text/plain": [
       "             filename  volume  number          head           normClass  \\\n",
       "9   volume01-5237.tei       1    5237         AZMER          Géographie   \n",
       "11  volume02-1783.tei       2    1783      BESANÇON          Géographie   \n",
       "15  volume04-4137.tei       4    4137         DENAT  Géographie moderne   \n",
       "21  volume09-3630.tei       9    3630          LYON          Géographie   \n",
       "31   volume11-760.tei      11     760        NICOYA          Géographie   \n",
       "32  volume17-2675.tei      17    2675  Zacatula, la  Géographie moderne   \n",
       "\n",
       "      author                                               text  \n",
       "9    Diderot  * AZMER (Géographie.) ville des Indes, dans le...  \n",
       "11   Diderot  * BESANÇON, (Géog.) ville de France, capitale ...  \n",
       "15  unsigned  DENAT, (Géog. mod.) petite ville de France au ...  \n",
       "21  Jaucourt  LYON, (Géogr.) grande, riche, belle, ancienne ...  \n",
       "31  unsigned  NICOYA, (Géogr.) ville de l'Amérique septentri...  \n",
       "32  unsigned  Zacatula, la, (Géog. mod.) riviere de l'Amériq...  "
      ]
     },
     "execution_count": 12,
     "metadata": {},
     "output_type": "execute_result"
    }
   ],
   "source": [
    "df[df['text'].str.contains(\"ville de\", case=False)]"
   ]
  },
  {
   "cell_type": "markdown",
   "metadata": {},
   "source": [
    "The same with the words 'océan pacifique' and 'mer pacifique'. Which can be used to study the extent of the Encyclopedie on the pacific area:"
   ]
  },
  {
   "cell_type": "code",
   "execution_count": 13,
   "metadata": {},
   "outputs": [
    {
     "data": {
      "text/html": [
       "<div>\n",
       "<style scoped>\n",
       "    .dataframe tbody tr th:only-of-type {\n",
       "        vertical-align: middle;\n",
       "    }\n",
       "\n",
       "    .dataframe tbody tr th {\n",
       "        vertical-align: top;\n",
       "    }\n",
       "\n",
       "    .dataframe thead th {\n",
       "        text-align: right;\n",
       "    }\n",
       "</style>\n",
       "<table border=\"1\" class=\"dataframe\">\n",
       "  <thead>\n",
       "    <tr style=\"text-align: right;\">\n",
       "      <th></th>\n",
       "      <th>filename</th>\n",
       "      <th>volume</th>\n",
       "      <th>number</th>\n",
       "      <th>head</th>\n",
       "      <th>normClass</th>\n",
       "      <th>author</th>\n",
       "      <th>text</th>\n",
       "    </tr>\n",
       "  </thead>\n",
       "  <tbody>\n",
       "    <tr>\n",
       "      <th>3</th>\n",
       "      <td>volume01-2568.tei</td>\n",
       "      <td>1</td>\n",
       "      <td>2568</td>\n",
       "      <td>ANCUD</td>\n",
       "      <td>Géographie moderne</td>\n",
       "      <td>Diderot</td>\n",
       "      <td>* ANCUD, (Géog. mod.) l'Archipel d'Ancud ou de...</td>\n",
       "    </tr>\n",
       "    <tr>\n",
       "      <th>4</th>\n",
       "      <td>volume01-4093.tei</td>\n",
       "      <td>1</td>\n",
       "      <td>4093</td>\n",
       "      <td>ARRACIFES</td>\n",
       "      <td>Géographie</td>\n",
       "      <td>Diderot</td>\n",
       "      <td>* ARRACIFES, (Géog.) une des îles des Larrons,...</td>\n",
       "    </tr>\n",
       "    <tr>\n",
       "      <th>5</th>\n",
       "      <td>volume01-4583.tei</td>\n",
       "      <td>1</td>\n",
       "      <td>4583</td>\n",
       "      <td>ATAVILLES</td>\n",
       "      <td>Géographie</td>\n",
       "      <td>Diderot</td>\n",
       "      <td>* ATAVILLES, s. m. pl. (Géog.) peuples du Péro...</td>\n",
       "    </tr>\n",
       "    <tr>\n",
       "      <th>6</th>\n",
       "      <td>volume01-4987.tei</td>\n",
       "      <td>1</td>\n",
       "      <td>4987</td>\n",
       "      <td>AVIQUIRINA</td>\n",
       "      <td>Géographie</td>\n",
       "      <td>Diderot</td>\n",
       "      <td>* AVIQUIRINA, (Géog.) île de l'Amérique septen...</td>\n",
       "    </tr>\n",
       "    <tr>\n",
       "      <th>7</th>\n",
       "      <td>volume01-5207.tei</td>\n",
       "      <td>1</td>\n",
       "      <td>5207</td>\n",
       "      <td>AYUTLAN</td>\n",
       "      <td>Géographie</td>\n",
       "      <td>Diderot</td>\n",
       "      <td>* AYUTLAN, (Géog.) riviere de l'Amérique septe...</td>\n",
       "    </tr>\n",
       "    <tr>\n",
       "      <th>12</th>\n",
       "      <td>volume03-2596.tei</td>\n",
       "      <td>3</td>\n",
       "      <td>2596</td>\n",
       "      <td>COCOS (Isle des)</td>\n",
       "      <td>Géographie moderne</td>\n",
       "      <td>unsigned</td>\n",
       "      <td>COCOS (Isle des), Géog. mod. île de l'Amérique...</td>\n",
       "    </tr>\n",
       "    <tr>\n",
       "      <th>22</th>\n",
       "      <td>volume09-3890.tei</td>\n",
       "      <td>9</td>\n",
       "      <td>3890</td>\n",
       "      <td>MAGELLANIQUE la terre</td>\n",
       "      <td>Géographie</td>\n",
       "      <td>Jaucourt</td>\n",
       "      <td>MAGELLANIQUE la terre, (Géog.) C'est ainsi que...</td>\n",
       "    </tr>\n",
       "    <tr>\n",
       "      <th>24</th>\n",
       "      <td>volume10-1660.tei</td>\n",
       "      <td>10</td>\n",
       "      <td>1660</td>\n",
       "      <td>MER</td>\n",
       "      <td>Géographie</td>\n",
       "      <td>d'Alembert &amp; d'Holbach</td>\n",
       "      <td>MER, s. f. (Géog.) ce terme signifie ordinaire...</td>\n",
       "    </tr>\n",
       "    <tr>\n",
       "      <th>26</th>\n",
       "      <td>volume10-1695.tei</td>\n",
       "      <td>10</td>\n",
       "      <td>1695</td>\n",
       "      <td>Mer du Sud</td>\n",
       "      <td>Géographie</td>\n",
       "      <td>unsigned</td>\n",
       "      <td>Mer du Sud, (Géog.) vaste partie de l'Océan, e...</td>\n",
       "    </tr>\n",
       "    <tr>\n",
       "      <th>27</th>\n",
       "      <td>volume10-557.tei</td>\n",
       "      <td>10</td>\n",
       "      <td>557</td>\n",
       "      <td>MARIANES, (les îles)</td>\n",
       "      <td>Géographie</td>\n",
       "      <td>unsigned</td>\n",
       "      <td>MARIANES, (les îles) autrement les îles DAS VE...</td>\n",
       "    </tr>\n",
       "    <tr>\n",
       "      <th>30</th>\n",
       "      <td>volume11-3506.tei</td>\n",
       "      <td>11</td>\n",
       "      <td>3506</td>\n",
       "      <td>Pacifique</td>\n",
       "      <td>Géographie</td>\n",
       "      <td>unsigned</td>\n",
       "      <td>Pacifique, adj. (Géogr.) les Géographes appell...</td>\n",
       "    </tr>\n",
       "    <tr>\n",
       "      <th>31</th>\n",
       "      <td>volume11-760.tei</td>\n",
       "      <td>11</td>\n",
       "      <td>760</td>\n",
       "      <td>NICOYA</td>\n",
       "      <td>Géographie</td>\n",
       "      <td>unsigned</td>\n",
       "      <td>NICOYA, (Géogr.) ville de l'Amérique septentri...</td>\n",
       "    </tr>\n",
       "    <tr>\n",
       "      <th>32</th>\n",
       "      <td>volume17-2675.tei</td>\n",
       "      <td>17</td>\n",
       "      <td>2675</td>\n",
       "      <td>Zacatula, la</td>\n",
       "      <td>Géographie moderne</td>\n",
       "      <td>unsigned</td>\n",
       "      <td>Zacatula, la, (Géog. mod.) riviere de l'Amériq...</td>\n",
       "    </tr>\n",
       "    <tr>\n",
       "      <th>33</th>\n",
       "      <td>volume17-2995.tei</td>\n",
       "      <td>17</td>\n",
       "      <td>2995</td>\n",
       "      <td>Zones tempérées</td>\n",
       "      <td>Géographie moderne</td>\n",
       "      <td>Jaucourt</td>\n",
       "      <td>Zones tempérées, (Géog. mod.) les deux zones t...</td>\n",
       "    </tr>\n",
       "  </tbody>\n",
       "</table>\n",
       "</div>"
      ],
      "text/plain": [
       "             filename  volume  number                   head  \\\n",
       "3   volume01-2568.tei       1    2568                  ANCUD   \n",
       "4   volume01-4093.tei       1    4093              ARRACIFES   \n",
       "5   volume01-4583.tei       1    4583              ATAVILLES   \n",
       "6   volume01-4987.tei       1    4987             AVIQUIRINA   \n",
       "7   volume01-5207.tei       1    5207                AYUTLAN   \n",
       "12  volume03-2596.tei       3    2596       COCOS (Isle des)   \n",
       "22  volume09-3890.tei       9    3890  MAGELLANIQUE la terre   \n",
       "24  volume10-1660.tei      10    1660                    MER   \n",
       "26  volume10-1695.tei      10    1695             Mer du Sud   \n",
       "27   volume10-557.tei      10     557   MARIANES, (les îles)   \n",
       "30  volume11-3506.tei      11    3506              Pacifique   \n",
       "31   volume11-760.tei      11     760                 NICOYA   \n",
       "32  volume17-2675.tei      17    2675           Zacatula, la   \n",
       "33  volume17-2995.tei      17    2995        Zones tempérées   \n",
       "\n",
       "             normClass                  author  \\\n",
       "3   Géographie moderne                 Diderot   \n",
       "4           Géographie                 Diderot   \n",
       "5           Géographie                 Diderot   \n",
       "6           Géographie                 Diderot   \n",
       "7           Géographie                 Diderot   \n",
       "12  Géographie moderne                unsigned   \n",
       "22          Géographie                Jaucourt   \n",
       "24          Géographie  d'Alembert & d'Holbach   \n",
       "26          Géographie                unsigned   \n",
       "27          Géographie                unsigned   \n",
       "30          Géographie                unsigned   \n",
       "31          Géographie                unsigned   \n",
       "32  Géographie moderne                unsigned   \n",
       "33  Géographie moderne                Jaucourt   \n",
       "\n",
       "                                                 text  \n",
       "3   * ANCUD, (Géog. mod.) l'Archipel d'Ancud ou de...  \n",
       "4   * ARRACIFES, (Géog.) une des îles des Larrons,...  \n",
       "5   * ATAVILLES, s. m. pl. (Géog.) peuples du Péro...  \n",
       "6   * AVIQUIRINA, (Géog.) île de l'Amérique septen...  \n",
       "7   * AYUTLAN, (Géog.) riviere de l'Amérique septe...  \n",
       "12  COCOS (Isle des), Géog. mod. île de l'Amérique...  \n",
       "22  MAGELLANIQUE la terre, (Géog.) C'est ainsi que...  \n",
       "24  MER, s. f. (Géog.) ce terme signifie ordinaire...  \n",
       "26  Mer du Sud, (Géog.) vaste partie de l'Océan, e...  \n",
       "27  MARIANES, (les îles) autrement les îles DAS VE...  \n",
       "30  Pacifique, adj. (Géogr.) les Géographes appell...  \n",
       "31  NICOYA, (Géogr.) ville de l'Amérique septentri...  \n",
       "32  Zacatula, la, (Géog. mod.) riviere de l'Amériq...  \n",
       "33  Zones tempérées, (Géog. mod.) les deux zones t...  "
      ]
     },
     "execution_count": 13,
     "metadata": {},
     "output_type": "execute_result"
    }
   ],
   "source": [
    "df[df['text'].str.contains(\"océan pacifique|mer pacifique\", case=False)]\n"
   ]
  },
  {
   "cell_type": "markdown",
   "metadata": {},
   "source": [
    "Then, the same with a more thematic search for instance about 'esclavage': "
   ]
  },
  {
   "cell_type": "code",
   "execution_count": 14,
   "metadata": {},
   "outputs": [
    {
     "data": {
      "text/html": [
       "<div>\n",
       "<style scoped>\n",
       "    .dataframe tbody tr th:only-of-type {\n",
       "        vertical-align: middle;\n",
       "    }\n",
       "\n",
       "    .dataframe tbody tr th {\n",
       "        vertical-align: top;\n",
       "    }\n",
       "\n",
       "    .dataframe thead th {\n",
       "        text-align: right;\n",
       "    }\n",
       "</style>\n",
       "<table border=\"1\" class=\"dataframe\">\n",
       "  <thead>\n",
       "    <tr style=\"text-align: right;\">\n",
       "      <th></th>\n",
       "      <th>filename</th>\n",
       "      <th>volume</th>\n",
       "      <th>number</th>\n",
       "      <th>head</th>\n",
       "      <th>normClass</th>\n",
       "      <th>author</th>\n",
       "      <th>text</th>\n",
       "    </tr>\n",
       "  </thead>\n",
       "  <tbody>\n",
       "    <tr>\n",
       "      <th>10</th>\n",
       "      <td>volume02-1650.tei</td>\n",
       "      <td>2</td>\n",
       "      <td>1650</td>\n",
       "      <td>Benin</td>\n",
       "      <td>Géographie</td>\n",
       "      <td>Diderot</td>\n",
       "      <td>* Benin, (Géog.) capitale du royaume de même n...</td>\n",
       "    </tr>\n",
       "    <tr>\n",
       "      <th>13</th>\n",
       "      <td>volume03-3978.tei</td>\n",
       "      <td>3</td>\n",
       "      <td>3978</td>\n",
       "      <td>CONQUÊTE</td>\n",
       "      <td>Droit des gens</td>\n",
       "      <td>Jaucourt</td>\n",
       "      <td>CONQUÊTE, s. f. (Droit des gens.) acquisition ...</td>\n",
       "    </tr>\n",
       "    <tr>\n",
       "      <th>16</th>\n",
       "      <td>volume05-3381.tei</td>\n",
       "      <td>5</td>\n",
       "      <td>3381</td>\n",
       "      <td>ESCLAVAGE</td>\n",
       "      <td>Droit naturel | Morale | Religion</td>\n",
       "      <td>Jaucourt</td>\n",
       "      <td>ESCLAVAGE, s. m. (Droit nat. Religion, Morale....</td>\n",
       "    </tr>\n",
       "    <tr>\n",
       "      <th>17</th>\n",
       "      <td>volume05-3382.tei</td>\n",
       "      <td>5</td>\n",
       "      <td>3382</td>\n",
       "      <td>Esclavage</td>\n",
       "      <td>Commerce</td>\n",
       "      <td>Mallet</td>\n",
       "      <td>Esclavage, (Comm.) On appelle ainsi en Anglete...</td>\n",
       "    </tr>\n",
       "    <tr>\n",
       "      <th>19</th>\n",
       "      <td>volume08-240.tei</td>\n",
       "      <td>8</td>\n",
       "      <td>240</td>\n",
       "      <td>HAMBOURG</td>\n",
       "      <td>Géographie</td>\n",
       "      <td>Jaucourt</td>\n",
       "      <td>HAMBOURG, (Géog.) Hamburgum, grande &amp; très-ric...</td>\n",
       "    </tr>\n",
       "    <tr>\n",
       "      <th>29</th>\n",
       "      <td>volume11-3175.tei</td>\n",
       "      <td>11</td>\n",
       "      <td>3175</td>\n",
       "      <td>OSTIE</td>\n",
       "      <td>Géographie</td>\n",
       "      <td>Jaucourt</td>\n",
       "      <td>OSTIE, (Géogr.) ancienne ville d'Italie dans l...</td>\n",
       "    </tr>\n",
       "    <tr>\n",
       "      <th>34</th>\n",
       "      <td>volume17-681.tei</td>\n",
       "      <td>17</td>\n",
       "      <td>681</td>\n",
       "      <td>VICENCE</td>\n",
       "      <td>Géographie moderne</td>\n",
       "      <td>Jaucourt</td>\n",
       "      <td>VICENCE, (Géog. mod.) en italien Vicenza, en l...</td>\n",
       "    </tr>\n",
       "  </tbody>\n",
       "</table>\n",
       "</div>"
      ],
      "text/plain": [
       "             filename  volume  number       head  \\\n",
       "10  volume02-1650.tei       2    1650      Benin   \n",
       "13  volume03-3978.tei       3    3978   CONQUÊTE   \n",
       "16  volume05-3381.tei       5    3381  ESCLAVAGE   \n",
       "17  volume05-3382.tei       5    3382  Esclavage   \n",
       "19   volume08-240.tei       8     240   HAMBOURG   \n",
       "29  volume11-3175.tei      11    3175      OSTIE   \n",
       "34   volume17-681.tei      17     681    VICENCE   \n",
       "\n",
       "                            normClass    author  \\\n",
       "10                         Géographie   Diderot   \n",
       "13                     Droit des gens  Jaucourt   \n",
       "16  Droit naturel | Morale | Religion  Jaucourt   \n",
       "17                           Commerce    Mallet   \n",
       "19                         Géographie  Jaucourt   \n",
       "29                         Géographie  Jaucourt   \n",
       "34                 Géographie moderne  Jaucourt   \n",
       "\n",
       "                                                 text  \n",
       "10  * Benin, (Géog.) capitale du royaume de même n...  \n",
       "13  CONQUÊTE, s. f. (Droit des gens.) acquisition ...  \n",
       "16  ESCLAVAGE, s. m. (Droit nat. Religion, Morale....  \n",
       "17  Esclavage, (Comm.) On appelle ainsi en Anglete...  \n",
       "19  HAMBOURG, (Géog.) Hamburgum, grande & très-ric...  \n",
       "29  OSTIE, (Géogr.) ancienne ville d'Italie dans l...  \n",
       "34  VICENCE, (Géog. mod.) en italien Vicenza, en l...  "
      ]
     },
     "execution_count": 14,
     "metadata": {},
     "output_type": "execute_result"
    }
   ],
   "source": [
    "df[df['text'].str.contains(\"esclavage\", case=False)]"
   ]
  },
  {
   "cell_type": "markdown",
   "metadata": {
    "colab_type": "text",
    "id": "asi5amjhkxKA"
   },
   "source": [
    "## 2. The NLP pipeline\n",
    "\n",
    "### 2.1 Preprocessing: tokenization and part-of-speech (POS) tagging \n",
    "\n",
    "In Natural Language Processing (NLP), the main first steps before processing text content consist in tokenizing sentences and words and assigning to each word its grammatical category (Part-of-Speech). Then, this allows the construction of more complex rules or queries than a simple keyword search.\n",
    "This preprocessing step is language dependent and thus we have to choose the right tool according to the language of our documents. This is a major difficulty when dealing with historical or ancient texts. For instance, for French it is difficult to find a POS tagger for old French as all well known taggers are trained on contemporary corpora.\n",
    "\n",
    "> McDonough, K., Moncla, L., & van de Camp, M. (2019). Named entity recognition goes to old regime France: geographic text analysis for early modern French corpora. International Journal of Geographical Information Science, 33, 2498–2522.\n",
    "\n",
    "\n",
    "The `Perdido` geoparser uses [Treetagger](https://www.cis.uni-muenchen.de/~schmid/tools/TreeTagger/) for part-of-speech tagging. \n"
   ]
  },
  {
   "cell_type": "markdown",
   "metadata": {
    "colab_type": "text",
    "id": "nTcr95AokxKh"
   },
   "source": [
    "### 2.2 Geoparsing: geotagging + geocoding\n",
    "\n",
    "Geoparsing is divided into two main tasks: geotagging (NER) and geocoding.\n",
    "\n",
    "The geotagging service of the `Perdido` API uses a cascade of finite-state transducers defining specific patterns for NER and identification of geographic information (spatial relations, etc.). \n",
    "> Mauro Gaio and Ludovic Moncla (2019). “Geoparsing and geocoding places in a dynamic space context.“ In The Semantics of Dynamic Space in French: Descriptive, experimental and formal studies on motion expression, 66, 353.\n",
    "\n",
    "For our custom version of the `Perdido` Geoparser, the geocoding task uses a simple gazetteer lookup method. We use the French wikiGazetteer (a gazetteer based on Wikipedia and enriched with Geonames data) generated following this work: https://github.com/alan-turing-institute/lwm_GIR19_resolving_places/tree/master/gazetteer_construction\n",
    "> Mariona Coll Ardanuy, Katherine McDonough, Amrey Krause, Daniel CS Wilson, Kasra Hosseini, and Daniel van Strien. (2019) “Resolving Places, Past and Present: Toponym Resolution in Historical British Newspapers Using Multiple Resources”. In Proceedings of the 13th Workshop on Geographic Information Retrieval (GIR19).\n",
    "\n",
    "Geographic text analysis research in the digital humanities has focused on projects analyzing modern English-language corpora. \n",
    "In this tutorial we propose to highlight the difficulties of extracting and mapping geographical information from historical French texts.\n",
    "As we'll see in the following, in addition to the problem of language when it comes to historical documents, the early-modern period lacks temporally appropriate gazetteers.\n",
    "\n",
    "> McDonough, K., Moncla, L., & van de Camp, M. (2019). Named entity recognition goes to old regime France: geographic text analysis for early modern French corpora. International Journal of Geographical Information Science, 33, 2498–2522.\n"
   ]
  },
  {
   "cell_type": "code",
   "execution_count": 15,
   "metadata": {},
   "outputs": [
    {
     "data": {
      "text/plain": [
       "\"* AZIRUTH (Géographie.) petite ville d'Egypte, sur la côte occidentale de la mer Rouge ; ce n'est presque plus qu'un village.\""
      ]
     },
     "execution_count": 15,
     "metadata": {},
     "output_type": "execute_result"
    }
   ],
   "source": [
    "content = df.loc[df['head'] == 'AZIRUTH'].text.item()\n",
    "content"
   ]
  },
  {
   "cell_type": "code",
   "execution_count": 3,
   "metadata": {},
   "outputs": [],
   "source": [
    "content = \"AZIRUTH petite ville d'Egypte, sur la côte occidentale de la mer Rouge ce n'est presque plus qu'un village.\""
   ]
  },
  {
   "cell_type": "code",
   "execution_count": 7,
   "metadata": {},
   "outputs": [],
   "source": [
    "geoparser = Geoparser(version=\"Encyclopedie\")\n",
    "doc = geoparser(content)"
   ]
  },
  {
   "cell_type": "code",
   "execution_count": 8,
   "metadata": {},
   "outputs": [
    {
     "data": {
      "text/plain": [
       "'<TEI><teiheader></teiheader><text><body><s><rs type=\"ene\" id=\"en.0\"><rs type=\"place\" subtype=\"ene\" id=\"en.1\" start=\"1\" end=\"0\" startT=\"0\" endT=\"5\"><term type=\"place\" start=\"0\" end=\"0\" startT=\"0\" endT=\"3\"><rs type=\"place\" subtype=\"no\" id=\"en.2\" start=\"0\" end=\"0\" startT=\"0\" endT=\"1\"><name type=\"place\" subtype=\"edda\" id=\"en.3\" start=\"0\" end=\"0\" startT=\"0\" endT=\"1\"><w lemma=\"aziruth\" type=\"NPr\" id=\"w0\">AZIRUTH</w></name></rs><w lemma=\"petit\" type=\"A\" id=\"w1\">petite</w><w lemma=\"ville\" type=\"N\" id=\"w2\">ville</w></term><w lemma=\"de\" type=\"PREP\" id=\"w3\">d\\'</w><rs type=\"place\" subtype=\"no\" id=\"en.4\" start=\"1\" end=\"0\" startT=\"4\" endT=\"5\"><indice level=\"strong\" elt=\"name\" rule=\"9\" type=\"place\" subtype=\"land\"><name type=\"place\" subtype=\"edda\" id=\"en.5\" start=\"1\" end=\"0\" startT=\"4\" endT=\"5\"><w lemma=\"egypte\" type=\"NPr\" id=\"w4\">Egypte</w><location><geo source=\"nominatim\" rend=\"&#1605;&#1589;&#1585;\">29.267547 26.254049</geo></location></name></indice></rs></rs></rs><w type=\"PUN\" lemma=\"\" id=\"w5\">,</w><w lemma=\"sur\" type=\"PREP\" id=\"w6\">sur</w><rs type=\"ene\" id=\"en.6\"><rs type=\"place\" subtype=\"ene\" id=\"en.7\" start=\"1\" end=\"0\" startT=\"7\" endT=\"14\"><term type=\"place\" start=\"1\" end=\"0\" startT=\"7\" endT=\"10\"><w lemma=\"le\" type=\"DET\" id=\"w7\">la</w><w lemma=\"c&#244;te\" type=\"N\" id=\"w8\">c&#244;te</w><w lemma=\"occidental\" type=\"A\" id=\"w9\">occidentale</w></term><w lemma=\"de\" type=\"PREP\" id=\"w10\">de</w><rs type=\"place\" subtype=\"no\" id=\"en.8\" start=\"1\" end=\"0\" startT=\"11\" endT=\"14\"><w lemma=\"le\" type=\"DET\" id=\"w11\">la</w><name type=\"place\" subtype=\"edda\" id=\"en.9\" start=\"1\" end=\"0\" startT=\"12\" endT=\"14\"><w lemma=\"mer\" type=\"N\" id=\"w12\">mer</w><w lemma=\"rouge\" type=\"NPr\" id=\"w13\">Rouge</w><location><geo source=\"nominatim\" rend=\"&#1575;&#1604;&#1576;&#1581;&#1585; &#1575;&#1604;&#1571;&#1581;&#1605;&#1585;\">38.534297 20.296545</geo></location></name></rs></rs></rs><w lemma=\"ce\" type=\"PRO\" id=\"w14\">ce</w><w lemma=\"ne\" type=\"ADV\" id=\"w15\">n\\'</w><w lemma=\"&#234;tre\" type=\"V\" id=\"w16\">est</w><w lemma=\"presque\" type=\"ADV\" id=\"w17\">presque</w><w lemma=\"plus\" type=\"ADV\" id=\"w18\">plus</w><w lemma=\"que\" type=\"CONJC\" id=\"w19\">qu\\'</w><w lemma=\"un\" type=\"DET\" id=\"w20\">un</w><w lemma=\"village\" type=\"N\" id=\"w21\">village</w><w type=\"SEN\" lemma=\"\" id=\"w22\">.</w></s></body></text></TEI>\\n'"
      ]
     },
     "execution_count": 8,
     "metadata": {},
     "output_type": "execute_result"
    }
   ],
   "source": [
    "doc.tei"
   ]
  },
  {
   "cell_type": "code",
   "execution_count": 9,
   "metadata": {},
   "outputs": [
    {
     "name": "stdout",
     "output_type": "stream",
     "text": [
      "AZIRUTH place 0 1\n",
      "Egypte place  \n"
     ]
    },
    {
     "ename": "ValueError",
     "evalue": "invalid literal for int() with base 10: ''",
     "output_type": "error",
     "traceback": [
      "\u001b[0;31m---------------------------------------------------------------------------\u001b[0m",
      "\u001b[0;31mValueError\u001b[0m                                Traceback (most recent call last)",
      "\u001b[1;32m/Users/lmoncla/git/github.com/lmoncla/SunoikisisDC-Summer2022-Session9/GeoparsingEncyclopedie.ipynb Cell 39'\u001b[0m in \u001b[0;36m<cell line: 1>\u001b[0;34m()\u001b[0m\n\u001b[0;32m----> <a href='vscode-notebook-cell:/Users/lmoncla/git/github.com/lmoncla/SunoikisisDC-Summer2022-Session9/GeoparsingEncyclopedie.ipynb#ch0000059?line=0'>1</a>\u001b[0m doc\u001b[39m.\u001b[39;49mto_displacy()\n",
      "File \u001b[0;32m~/git/github.com/lmoncla/perdido/venv/lib/python3.10/site-packages/perdido/perdido.py:86\u001b[0m, in \u001b[0;36mPerdido.to_displacy\u001b[0;34m(self)\u001b[0m\n\u001b[1;32m     <a href='file:///Users/lmoncla/git/github.com/lmoncla/perdido/venv/lib/python3.10/site-packages/perdido/perdido.py?line=83'>84</a>\u001b[0m \u001b[39mfor\u001b[39;00m e \u001b[39min\u001b[39;00m \u001b[39mself\u001b[39m\u001b[39m.\u001b[39mne:\n\u001b[1;32m     <a href='file:///Users/lmoncla/git/github.com/lmoncla/perdido/venv/lib/python3.10/site-packages/perdido/perdido.py?line=84'>85</a>\u001b[0m     \u001b[39mprint\u001b[39m(e\u001b[39m.\u001b[39mtext, e\u001b[39m.\u001b[39mtag, e\u001b[39m.\u001b[39mstart, e\u001b[39m.\u001b[39mend)\n\u001b[0;32m---> <a href='file:///Users/lmoncla/git/github.com/lmoncla/perdido/venv/lib/python3.10/site-packages/perdido/perdido.py?line=85'>86</a>\u001b[0m     ents\u001b[39m.\u001b[39mappend(Span(doc, \u001b[39mint\u001b[39;49m(e\u001b[39m.\u001b[39;49mstart), \u001b[39mint\u001b[39m(e\u001b[39m.\u001b[39mend), label\u001b[39m=\u001b[39me\u001b[39m.\u001b[39mtag))\n\u001b[1;32m     <a href='file:///Users/lmoncla/git/github.com/lmoncla/perdido/venv/lib/python3.10/site-packages/perdido/perdido.py?line=87'>88</a>\u001b[0m doc\u001b[39m.\u001b[39ments \u001b[39m=\u001b[39m ents\n\u001b[1;32m     <a href='file:///Users/lmoncla/git/github.com/lmoncla/perdido/venv/lib/python3.10/site-packages/perdido/perdido.py?line=88'>89</a>\u001b[0m \u001b[39mreturn\u001b[39;00m doc\n",
      "\u001b[0;31mValueError\u001b[0m: invalid literal for int() with base 10: ''"
     ]
    }
   ],
   "source": [
    "doc.to_displacy()"
   ]
  },
  {
   "cell_type": "markdown",
   "metadata": {},
   "source": [
    "### 2.1 PERDIDO Geoparser\n",
    "\n",
    "The PERDIDO Geoparsing service (`http://erig.univ-pau.fr/PERDIDO/api/geoparsing/`) takes 6 new parameters:\n",
    "1. api_key: API key of the user\n",
    "2. lang: language of the document (currently only available for French)\n",
    "3. content: textual content to parse\n",
    "4. mode: indicates if the query uses exact match on the name (mode: *s*) or if it uses also alternate names (mode: *a*). (default : *s*)\n",
    "5. records_limit: maximum number of records found in gazetteer for each toponym (default: 1)\n",
    "6. version: indicates the version of the geoparser (Encyclopedie or Standard). Default: Standard (the standard version has been developped for the analysis of hiking descriptions)\n",
    "\n",
    "The PERDIDO Geoparser returns XML-TEI. The `<name>` element refers to named entities (proper nouns) and the type attribute indicates its class (place, person, etc.). The `<rs>` element refers to extended named entities (e.g. ville d'Egypte). The `<location>` element indicates that geographic coordinates were found during geocoding.  \n",
    "\n",
    "\n",
    "\n",
    "As we'll see in the next cell, when we apply the PERDIDO Geoparser to the following example: (Volume 1 article 5236, available online from the [ARTFL project](https://artflsrv03.uchicago.edu/philologic4/encyclopedie1117/navigate/1/5236/))\n",
    "\n",
    ">AZIRUTH (Géographie.) petite ville d'Egypte, sur la côte occidentale de la mer Rouge ; ce n'est presque plus qu'un village.\n",
    "\n",
    "\n",
    "Three spatial entities are found during geotagging:\n",
    "1. Aziruth, \n",
    "2. petite ville d'Egypte\n",
    "3. la côte occidentale de la mer Rouge\n",
    "\n",
    "while only one entity (*Egypte*) is found during geocoding:\n",
    "\n",
    "```xml\n",
    "<name type=\"place\" subtype=\"edda\" id=\"en.2\">\n",
    "   <w lemma=\"null\" type=\"NPr\" xml:id=\"w9\">Egypte</w>\n",
    "   <location>\n",
    "      <geo source=\"wiki\">35.4833 24.1333</geo>\n",
    "   </location>\n",
    "</name>\n",
    "```"
   ]
  },
  {
   "cell_type": "code",
   "execution_count": null,
   "metadata": {
    "colab": {
     "base_uri": "https://localhost:8080/",
     "height": 1000
    },
    "colab_type": "code",
    "id": "2PqCCV2hkxKi",
    "outputId": "ce0d0fcb-73d0-4a8e-f750-d7607147907d",
    "scrolled": true
   },
   "outputs": [],
   "source": [
    "# set the parameters for the PERDIDO geoparsing service\n",
    "content = df.loc[df['head'] == 'AZIRUTH'].txtContent.item()\n",
    "parameters = {'api_key': api_key, 'lang': lang, 'content': content, 'mode': \"s\", \"records_limit\": 1, \"version\": version, \"gazetteer\": gazetteer}\n",
    "\n",
    "# request the PERDIDO API\n",
    "r = requests.get('http://erig.univ-pau.fr/PERDIDO/api/geoparsing/', params=parameters)\n",
    "\n",
    "display(XML(bytes(r.text, 'utf-8'), style='colorful')) # shows the PERDIDO-GEOPARSER XML output"
   ]
  },
  {
   "cell_type": "markdown",
   "metadata": {
    "colab_type": "text",
    "id": "1ezZdv-gkxKn"
   },
   "source": [
    "In the next cells, we will use the displacy library from spaCy to display the PERDIDO-NER XML output. For this purpose, we define the function `Perdido2displaCy()` in order to transform the PERDIDO-NER XML into a [spaCy](https://spacy.io/) compatible format."
   ]
  },
  {
   "cell_type": "code",
   "execution_count": null,
   "metadata": {
    "colab": {},
    "colab_type": "code",
    "id": "oSy-arJGkxKn"
   },
   "outputs": [],
   "source": [
    "''' function Perdido2displaCy()\n",
    "    transforms the PERDIDO-NER XML output into spaCy format (for display purpose) '''\n",
    "def Perdido2displaCy(contentXML):\n",
    "    vocab = Vocab()\n",
    "    words = []\n",
    "    spaces = []\n",
    "    root = etree.fromstring(bytes(contentXML, 'utf-8'))\n",
    "    contentTXT = \"\"\n",
    "    for w in root.findall('.//w'):\n",
    "        contentTXT += w.text + ' '\n",
    "        words.append(w.text)\n",
    "        spaces.append(True)\n",
    "    doc = Doc(vocab, words=words, spaces=spaces)\n",
    "    ents = [] \n",
    "    for child in root.findall('.//rs'):\n",
    "        if not parent_exists(child, 'rs'):\n",
    "            if 'startT' in child.attrib:\n",
    "                start = child.get('startT')\n",
    "                if 'endT' in child.attrib:\n",
    "                    stop = child.get('endT')\n",
    "                    if 'type' in child.attrib:\n",
    "                        if child.get('type') == 'place':\n",
    "                            type = 'LOC'\n",
    "                        elif child.get('type') == 'person':\n",
    "                            type = 'PERSON'\n",
    "                        else:\n",
    "                            type = 'MISC'\n",
    "                    else:\n",
    "                        type = 'MISC'\n",
    "                    ents.append(Span(doc, int(start), int(stop), label=type))\n",
    "    doc.ents = ents\n",
    "    return doc \n",
    "\n",
    "''' function parent_exists() \n",
    "    returns True if one of the ancestor of the element child_node have the name name_node''' \n",
    "def parent_exists(child_node, name_node):\n",
    "    try:\n",
    "        parent_node = next(child_node.iterancestors())\n",
    "        if parent_node.tag == name_node:\n",
    "            if 'startT' in parent_node.attrib:\n",
    "                return True\n",
    "        return parent_exists(parent_node, name_node)\n",
    "    except StopIteration:\n",
    "        return False"
   ]
  },
  {
   "cell_type": "code",
   "execution_count": null,
   "metadata": {
    "colab": {
     "base_uri": "https://localhost:8080/",
     "height": 52
    },
    "colab_type": "code",
    "id": "Z47bCdQgkxKt",
    "outputId": "e22446ab-fad7-4af0-d05d-07db97780792"
   },
   "outputs": [],
   "source": [
    "doc = Perdido2displaCy(r.text) # transforms the PERDIDO-GEOPARSER XML\n",
    "\n",
    "displacy.render(doc, style=\"ent\", jupyter=True) # shows the PERDIDO-GEOPARSER XML output using the displacy library"
   ]
  },
  {
   "cell_type": "markdown",
   "metadata": {
    "colab_type": "text",
    "id": "B7bw9rWGkxKx"
   },
   "source": [
    "### 2.2 Mapping place names from one article\n",
    "\n",
    "If you're interested in geocoding, you probably want to display the result on a map. \n",
    "There are two solutions, \n",
    "1. you can parse the PERDIDO-GEOPARSER XML and extract each `<location>` element in order to get lat/long coordinate of each entity\n",
    "2. you can use the PERDIDO-GEOCODING service `http://erig.univ-pau.fr/PERDIDO/api/geocoding/`. It takes the same parameters than the geoparsing service and returns the result as *geojson*.\n",
    "\n",
    "Let's try solution n°2:"
   ]
  },
  {
   "cell_type": "code",
   "execution_count": null,
   "metadata": {},
   "outputs": [],
   "source": [
    "''' function get_bounding_box() returns a list containing the bottom left and the top right \n",
    "    points in the sequence '''\n",
    "def get_bounding_box(points):\n",
    "    bot_left_x = min(point[1] for point in points)\n",
    "    bot_left_y = min(point[0] for point in points)\n",
    "    top_right_x = max(point[1] for point in points)\n",
    "    top_right_y = max(point[0] for point in points)\n",
    "    return [(bot_left_x, bot_left_y), (top_right_x, top_right_y)]\n",
    "\n",
    "''' function display_map() display the map using the folium library '''\n",
    "def display_map(json_data):\n",
    "    coords = list(geojson.utils.coords(json_data))\n",
    "    if len(coords) > 0:\n",
    "        print(str(len(coords))+\" records found in gazetteer:\")\n",
    "\n",
    "        m = folium.Map()\n",
    "        m.fit_bounds(get_bounding_box(coords), max_zoom=5)\n",
    "        folium.GeoJson(data, name='Toponyms', tooltip=folium.features.GeoJsonTooltip(fields=['id', 'name', 'source'], localize=True)).add_to(m)\n",
    "\n",
    "        display(m)\n",
    "    else:\n",
    "        print(\"Sorry, no records found in gazetteer for geocoding!\")"
   ]
  },
  {
   "cell_type": "code",
   "execution_count": null,
   "metadata": {
    "colab": {
     "base_uri": "https://localhost:8080/",
     "height": 1000
    },
    "colab_type": "code",
    "id": "Ay5XDTM1kxKy",
    "outputId": "93df6728-dd7e-40c7-c2c5-fae62699a7c0"
   },
   "outputs": [],
   "source": [
    "r = requests.get('http://erig.univ-pau.fr/PERDIDO/api/geocoding/', params=parameters)\n",
    "data = geojson.loads(r.text)\n",
    "\n",
    "\n",
    "display_map(data)"
   ]
  },
  {
   "cell_type": "markdown",
   "metadata": {
    "colab_type": "text",
    "id": "dxNQv8CrkxK3"
   },
   "source": [
    "Now, let's change the parameters. For geocoding, we will now use alternate names and limit the maximum number of records to 5."
   ]
  },
  {
   "cell_type": "code",
   "execution_count": null,
   "metadata": {
    "colab": {
     "base_uri": "https://localhost:8080/",
     "height": 1000
    },
    "colab_type": "code",
    "id": "3R0QQjD8kxK3",
    "outputId": "c64f134b-6dc6-46ba-a299-a3fe0014671a",
    "scrolled": false
   },
   "outputs": [],
   "source": [
    "\n",
    "parameters = {'api_key': api_key, \n",
    "              'lang': lang, \n",
    "              'content': content, \n",
    "              'mode': 'a', \n",
    "              'records_limit': 5, \n",
    "              'version': version, \n",
    "              'gazetteer': gazetteer}\n",
    "\n",
    "r = requests.get('http://erig.univ-pau.fr/PERDIDO/api/geoparsing/', params=parameters)\n",
    "doc = Perdido2displaCy(r.text)\n",
    "\n",
    "displacy.render(doc, style=\"ent\", jupyter=True)\n",
    "\n",
    "r = requests.get('http://erig.univ-pau.fr/PERDIDO/api/geocoding/', params=parameters)\n",
    "data = geojson.loads(r.text)\n",
    "\n",
    "display_map(data)\n"
   ]
  },
  {
   "cell_type": "markdown",
   "metadata": {
    "colab_type": "text",
    "id": "hgXluQMOkxK-"
   },
   "source": [
    "Let's try again with a maximum number of record of 1:"
   ]
  },
  {
   "cell_type": "code",
   "execution_count": null,
   "metadata": {
    "colab": {
     "base_uri": "https://localhost:8080/",
     "height": 1000
    },
    "colab_type": "code",
    "id": "ywqVvPWJkxK_",
    "outputId": "939428ff-617b-447f-8387-9f5c53e1e658",
    "scrolled": false
   },
   "outputs": [],
   "source": [
    "parameters = {'api_key': api_key, \n",
    "              'lang': lang, \n",
    "              'content': content, \n",
    "              'mode': 'a', \n",
    "              'records_limit': 1, \n",
    "              'version': version,\n",
    "              'gazetteer': gazetteer\n",
    "             }\n",
    "\n",
    "r = requests.get('http://erig.univ-pau.fr/PERDIDO/api/geoparsing/', params=parameters)\n",
    "doc = Perdido2displaCy(r.text)\n",
    "\n",
    "displacy.render(doc, style=\"ent\", jupyter=True)\n",
    "\n",
    "r = requests.get('http://erig.univ-pau.fr/PERDIDO/api/geocoding/', params=parameters)\n",
    "data = geojson.loads(r.text)\n",
    "\n",
    "display_map(data)\n"
   ]
  },
  {
   "cell_type": "markdown",
   "metadata": {
    "colab_type": "text",
    "id": "N00hyq57kxLD"
   },
   "source": [
    "Sometimes place names can be found in the text but there may be no result for geocoding. This means that none of the entity have records found in gazetteer. This is often the case for historical documents and for periods for which no appropriate gazetteer exists."
   ]
  },
  {
   "cell_type": "code",
   "execution_count": null,
   "metadata": {
    "colab": {
     "base_uri": "https://localhost:8080/",
     "height": 104
    },
    "colab_type": "code",
    "id": "ZUGMzvX4kxLD",
    "outputId": "95593a30-2039-4304-a700-08969033c91b"
   },
   "outputs": [],
   "source": [
    "content = df.loc[df['head'] == 'AZMER'].txtContent.item()\n",
    "\n",
    "\n",
    "parameters = {'api_key': api_key, \n",
    "              'lang': lang, \n",
    "              'content': content, \n",
    "              'mode': 'a', \n",
    "              'records_limit': 1, \n",
    "              'version': version,\n",
    "              'gazetteer': gazetteer\n",
    "             }\n",
    "\n",
    "r = requests.get('http://erig.univ-pau.fr/PERDIDO/api/geoparsing/', params=parameters)\n",
    "doc = Perdido2displaCy(r.text)\n",
    "\n",
    "displacy.render(doc, style=\"ent\", jupyter=True)\n",
    "\n",
    "\n",
    "r = requests.get('http://erig.univ-pau.fr/PERDIDO/api/geocoding/', params=parameters)\n",
    "data = geojson.loads(r.text)\n",
    "\n",
    "display_map(data)\n"
   ]
  },
  {
   "cell_type": "code",
   "execution_count": null,
   "metadata": {
    "colab": {
     "base_uri": "https://localhost:8080/",
     "height": 1000
    },
    "colab_type": "code",
    "id": "bKA5n09_kxLH",
    "outputId": "21deb4d5-6f9a-4572-ebf5-f9c9db7647a9"
   },
   "outputs": [],
   "source": [
    "content = df_geo.loc[df_geo['head'] == 'DAUPHINE'].txtContent.item()\n",
    "\n",
    "parameters = {'api_key': api_key, \n",
    "              'lang': lang, \n",
    "              'content': content, \n",
    "              'mode': 's', \n",
    "              'records_limit': 1, \n",
    "              'version': version,\n",
    "              'gazetteer': gazetteer\n",
    "             }\n",
    "\n",
    "\n",
    "r = requests.get('http://erig.univ-pau.fr/PERDIDO/api/geoparsing/', params=parameters)\n",
    "doc = Perdido2displaCy(r.text)\n",
    "\n",
    "displacy.render(doc, style=\"ent\", jupyter=True)\n",
    "\n",
    "\n",
    "r = requests.get('http://erig.univ-pau.fr/PERDIDO/api/geocoding/', params=parameters)\n",
    "data = geojson.loads(r.text)\n",
    "\n",
    "display_map(data)"
   ]
  },
  {
   "cell_type": "markdown",
   "metadata": {
    "colab": {},
    "colab_type": "code",
    "id": "r-4_s4JekxLM"
   },
   "source": [
    "### 2.3 Mapping several articles"
   ]
  },
  {
   "cell_type": "code",
   "execution_count": null,
   "metadata": {},
   "outputs": [],
   "source": [
    "df_pacifique = df_geo[df_geo['txtContent'].str.contains(\"océan pacifique|mer pacifique\", case=False)]\n",
    "df_pacifique"
   ]
  },
  {
   "cell_type": "code",
   "execution_count": null,
   "metadata": {},
   "outputs": [],
   "source": [
    "content = ', '.join(df_pacifique['head'].tolist())\n",
    "content"
   ]
  },
  {
   "cell_type": "code",
   "execution_count": null,
   "metadata": {},
   "outputs": [],
   "source": [
    "parameters = {'api_key': api_key, \n",
    "              'lang': lang, \n",
    "              'content': content, \n",
    "              'mode': 's', \n",
    "              'records_limit': 1, \n",
    "              'version': version,\n",
    "              'gazetteer': gazetteer\n",
    "             }\n",
    "\n",
    "r = requests.get('http://erig.univ-pau.fr/PERDIDO/api/geoparsing/', params=parameters)\n",
    "doc = Perdido2displaCy(r.text)\n",
    "\n",
    "displacy.render(doc, style=\"ent\", jupyter=True)\n",
    "\n",
    "\n",
    "r = requests.get('http://erig.univ-pau.fr/PERDIDO/api/geocoding/', params=parameters)\n",
    "data = geojson.loads(r.text)\n",
    "\n",
    "display_map(data)"
   ]
  },
  {
   "cell_type": "markdown",
   "metadata": {},
   "source": [
    "We change the parameter 'mode' to search also for alternate names:"
   ]
  },
  {
   "cell_type": "code",
   "execution_count": null,
   "metadata": {},
   "outputs": [],
   "source": [
    "parameters = {'api_key': api_key, \n",
    "              'lang': lang, \n",
    "              'content': content, \n",
    "              'mode': 'a', \n",
    "              'records_limit': 1, \n",
    "              'version': version,\n",
    "              'gazetteer': gazetteer\n",
    "             }\n",
    "\n",
    "r = requests.get('http://erig.univ-pau.fr/PERDIDO/api/geoparsing/', params=parameters)\n",
    "doc = Perdido2displaCy(r.text)\n",
    "\n",
    "displacy.render(doc, style=\"ent\", jupyter=True)\n",
    "\n",
    "\n",
    "r = requests.get('http://erig.univ-pau.fr/PERDIDO/api/geocoding/', params=parameters)\n",
    "data = geojson.loads(r.text)\n",
    "\n",
    "display_map(data)"
   ]
  },
  {
   "cell_type": "markdown",
   "metadata": {},
   "source": [
    "Geocoding headwords of articles containing the word 'esclavage'"
   ]
  },
  {
   "cell_type": "code",
   "execution_count": null,
   "metadata": {},
   "outputs": [],
   "source": [
    "df_esclavage = df_geo[df_geo['txtContent'].str.contains(\"esclavage\", case=False)].reset_index(drop = True)\n",
    "content = ', '.join(df_esclavage['head'].tolist())\n",
    "\n",
    "parameters = {'api_key': api_key, \n",
    "              'lang': lang, \n",
    "              'content': content, \n",
    "              'mode': 'a', \n",
    "              'records_limit': 1, \n",
    "              'version': version,\n",
    "              'gazetteer': gazetteer\n",
    "             }\n",
    "\n",
    "r = requests.get('http://erig.univ-pau.fr/PERDIDO/api/geoparsing/', params=parameters)\n",
    "doc = Perdido2displaCy(r.text)\n",
    "\n",
    "displacy.render(doc, style=\"ent\", jupyter=True)\n",
    "\n",
    "\n",
    "r = requests.get('http://erig.univ-pau.fr/PERDIDO/api/geocoding/', params=parameters)\n",
    "data = geojson.loads(r.text)\n",
    "\n",
    "display_map(data)"
   ]
  },
  {
   "cell_type": "markdown",
   "metadata": {},
   "source": [
    "## 3. Toponym disambiguation using network analysis\n",
    "\n",
    "In our work, we use this methodoly for constructing a network based on the citation of \"géographie\" articles between them.\n",
    "We proposed to use network analysis measures to establish an approximate location, defined by qualitative relations, for each named toponym in EDDA. Throwing a list of decontextualized toponyms at an external resource like Geonames is risky. We therefore hypothesize that defining meaningful links between places can provide essentialinformation to improve disambiguation (and potentially replace resolution as the end goal). We establish connections between places based on the citation of “headword” toponyms (those that appearas headwords of entries) in other EDDA entries.\n",
    "\n",
    ">Moncla, L., McDonough, K., Vigier, D., Joliveau, T., & Brenon, A. (2019). Toponym disambiguation in historical documents using network analysis of qualitative relationships. Proceedings of the 3rd ACM SIGSPATIAL International Workshop on Geospatial Humanities, 1–4. Chicago, IL, USA.\n",
    "\n",
    "This method draws on relations in the corpus of EDDA articles, which improves disambiguation at a later stage with an external resource. We suggest the network as an alternative to geospatial representation, a useful proxy when no historical gazetteer exists for the source material's period. Our first experiments have shown that this approach goes beyond a simple text analysis and is able to find relations between toponyms that are not co-occurring in the same documents. Network relations are also usefully compared with disambiguated toponyms to evaluate geographical coverage, and the ways that geographical discourse is expressed, in historical texts.\n",
    "\n",
    "\n",
    "<table>\n",
    "  <tr>\n",
    "    <td> <img src=\"img/labels_indegree2.png\" width =\"500px\"> </td>\n",
    "    <td> <img src=\"img/nodes_betweenness+class2.png\" width =\"500px\" > </td>\n",
    "  </tr>\n",
    "  <tr>\n",
    "    <td>Node and label size indicate in-degree centrality</td>\n",
    "    <td>Node size indicates betweenness centrality<br/> \n",
    "        colors refer to geographic feature types <br/> \n",
    "        (city: red, hydronym: blue, country: green, mountain: brown, unclassified: grey)</td>\n",
    "  </tr>\n",
    "</table> \n",
    "\n",
    "\n",
    "\n",
    "We also made somse preliminary tests by assigning geographic coordinates found in our French wikiGazetteer to each node (headword). We have only 2535 nodes with coordinates over the 13734 nodes. \n",
    "\n",
    "Our first experiment is shown below. Colors identify clusters of nodes computed with the [modularity measure](https://en.wikipedia.org/wiki/Modularity_(networks)) implemented on Gephy.\n",
    "\n",
    "<table><tr>\n",
    "<td> <img src=\"img/geocodingEDDA1.png\" width =\"500\"> </td>\n",
    "<td> <img src=\"img/geocodingEDDA_network.png\" width =\"500\" > </td>\n",
    "</tr></table> "
   ]
  },
  {
   "cell_type": "code",
   "execution_count": null,
   "metadata": {
    "colab": {},
    "colab_type": "code",
    "id": "mDgWiH2-kxMB"
   },
   "outputs": [],
   "source": []
  }
 ],
 "metadata": {
  "colab": {
   "collapsed_sections": [],
   "name": "Geoparsing.ipynb",
   "provenance": [],
   "toc_visible": true
  },
  "interpreter": {
   "hash": "d27810f7b4a7ea017eb4ebcbcc6a0ac17e3e3e8960de64bacc7cc202be6377cb"
  },
  "kernelspec": {
   "display_name": "Python 3.10.4 ('venv': venv)",
   "language": "python",
   "name": "python3"
  },
  "language_info": {
   "codemirror_mode": {
    "name": "ipython",
    "version": 3
   },
   "file_extension": ".py",
   "mimetype": "text/x-python",
   "name": "python",
   "nbconvert_exporter": "python",
   "pygments_lexer": "ipython3",
   "version": "3.10.4"
  }
 },
 "nbformat": 4,
 "nbformat_minor": 2
}
